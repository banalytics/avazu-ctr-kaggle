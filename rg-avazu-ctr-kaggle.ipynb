{
 "cells": [
  {
   "cell_type": "code",
   "execution_count": 1,
   "metadata": {},
   "outputs": [],
   "source": [
    "import os\n",
    "import pandas as pd\n",
    "import numpy as np\n",
    "import json\n",
    "import matplotlib.pyplot as plt\n",
    "from datetime import timedelta\n",
    "from dateutil.parser import parse\n",
    "from typing import List"
   ]
  },
  {
   "cell_type": "markdown",
   "metadata": {},
   "source": [
    "Download dataset from Kaggle"
   ]
  },
  {
   "cell_type": "code",
   "execution_count": 2,
   "metadata": {},
   "outputs": [],
   "source": [
    "with open('kaggle.json') as f:\n",
    "  credentials = json.load(f)\n",
    "\n",
    "KAGGLE_API_USERNAME = credentials['username']\n",
    "KAGGLE_API_KEY = credentials['key']"
   ]
  },
  {
   "cell_type": "code",
   "execution_count": 3,
   "metadata": {},
   "outputs": [
    {
     "name": "stdout",
     "output_type": "stream",
     "text": [
      "name                  size  creationDate         \r\n",
      "-------------------  -----  -------------------  \r\n",
      "train.gz               1GB  2018-06-20 00:48:07  \r\n",
      "sampleSubmission.gz   33MB  2018-06-20 00:48:07  \r\n",
      "test.gz              118MB  2018-06-20 00:48:07  \r\n"
     ]
    }
   ],
   "source": [
    "!KAGGLE_USERNAME={KAGGLE_API_USERNAME} KAGGLE_KEY={KAGGLE_API_KEY} kaggle competitions files avazu-ctr-prediction"
   ]
  },
  {
   "cell_type": "code",
   "execution_count": 4,
   "metadata": {},
   "outputs": [
    {
     "name": "stdout",
     "output_type": "stream",
     "text": [
      "Downloading avazu-ctr-prediction.zip to /Users/romangavuliak/Documents/avazu-ctr-kaggle\n",
      "100%|█████████████████████████████████████▉| 1.19G/1.19G [00:34<00:00, 19.7MB/s]\n",
      "100%|██████████████████████████████████████| 1.19G/1.19G [00:34<00:00, 37.0MB/s]\n"
     ]
    }
   ],
   "source": [
    "if 'avazu-ctr-prediction.zip' not in os.listdir():\n",
    "    !KAGGLE_USERNAME={KAGGLE_API_USERNAME} KAGGLE_KEY={KAGGLE_API_KEY} kaggle competitions download -c avazu-ctr-prediction"
   ]
  },
  {
   "cell_type": "code",
   "execution_count": 5,
   "metadata": {},
   "outputs": [
    {
     "name": "stdout",
     "output_type": "stream",
     "text": [
      "Archive:  avazu-ctr-prediction.zip\n",
      "  inflating: sampleSubmission.gz     \n",
      "  inflating: test.gz                 \n",
      "  inflating: train.gz                \n"
     ]
    }
   ],
   "source": [
    "!unzip avazu-ctr-prediction.zip"
   ]
  },
  {
   "cell_type": "markdown",
   "metadata": {},
   "source": [
    "It seems that the train table is quite large, we'll process it in chunks and only pick the two columns relevant for our analysis (hour + clicks). After all, our aggregations are count/sums which can be done on chunks and aggregated further."
   ]
  },
  {
   "cell_type": "code",
   "execution_count": 6,
   "metadata": {},
   "outputs": [],
   "source": [
    "aggregated_chunk_data = pd.DataFrame()"
   ]
  },
  {
   "cell_type": "code",
   "execution_count": 7,
   "metadata": {},
   "outputs": [
    {
     "data": {
      "text/html": [
       "<div>\n",
       "<style scoped>\n",
       "    .dataframe tbody tr th:only-of-type {\n",
       "        vertical-align: middle;\n",
       "    }\n",
       "\n",
       "    .dataframe tbody tr th {\n",
       "        vertical-align: top;\n",
       "    }\n",
       "\n",
       "    .dataframe thead tr th {\n",
       "        text-align: left;\n",
       "    }\n",
       "\n",
       "    .dataframe thead tr:last-of-type th {\n",
       "        text-align: right;\n",
       "    }\n",
       "</style>\n",
       "<table border=\"1\" class=\"dataframe\">\n",
       "  <thead>\n",
       "    <tr>\n",
       "      <th></th>\n",
       "      <th colspan=\"2\" halign=\"left\">click</th>\n",
       "    </tr>\n",
       "    <tr>\n",
       "      <th></th>\n",
       "      <th>sum</th>\n",
       "      <th>count</th>\n",
       "    </tr>\n",
       "    <tr>\n",
       "      <th>hour</th>\n",
       "      <th></th>\n",
       "      <th></th>\n",
       "    </tr>\n",
       "  </thead>\n",
       "  <tbody>\n",
       "    <tr>\n",
       "      <th>14102100</th>\n",
       "      <td>20792</td>\n",
       "      <td>119006</td>\n",
       "    </tr>\n",
       "    <tr>\n",
       "      <th>14102101</th>\n",
       "      <td>23873</td>\n",
       "      <td>137442</td>\n",
       "    </tr>\n",
       "    <tr>\n",
       "      <th>14102102</th>\n",
       "      <td>31265</td>\n",
       "      <td>207471</td>\n",
       "    </tr>\n",
       "    <tr>\n",
       "      <th>14102103</th>\n",
       "      <td>32830</td>\n",
       "      <td>193355</td>\n",
       "    </tr>\n",
       "    <tr>\n",
       "      <th>14102104</th>\n",
       "      <td>40026</td>\n",
       "      <td>264711</td>\n",
       "    </tr>\n",
       "  </tbody>\n",
       "</table>\n",
       "</div>"
      ],
      "text/plain": [
       "          click        \n",
       "            sum   count\n",
       "hour                   \n",
       "14102100  20792  119006\n",
       "14102101  23873  137442\n",
       "14102102  31265  207471\n",
       "14102103  32830  193355\n",
       "14102104  40026  264711"
      ]
     },
     "execution_count": 7,
     "metadata": {},
     "output_type": "execute_result"
    }
   ],
   "source": [
    "chunksize = 10 ** 6\n",
    "for chunk in pd.read_csv('train.gz', chunksize=chunksize, usecols=['click', 'hour']):\n",
    "    aggregated_chunk_data = aggregated_chunk_data.append(\n",
    "        chunk[['click', 'hour']].groupby('hour', as_index=False).agg(['sum', 'count'])\n",
    "    )\n",
    "    \n",
    "aggregated_chunk_data.head()"
   ]
  },
  {
   "cell_type": "code",
   "execution_count": 8,
   "metadata": {},
   "outputs": [
    {
     "data": {
      "text/html": [
       "<div>\n",
       "<style scoped>\n",
       "    .dataframe tbody tr th:only-of-type {\n",
       "        vertical-align: middle;\n",
       "    }\n",
       "\n",
       "    .dataframe tbody tr th {\n",
       "        vertical-align: top;\n",
       "    }\n",
       "\n",
       "    .dataframe thead th {\n",
       "        text-align: right;\n",
       "    }\n",
       "</style>\n",
       "<table border=\"1\" class=\"dataframe\">\n",
       "  <thead>\n",
       "    <tr style=\"text-align: right;\">\n",
       "      <th></th>\n",
       "      <th>hour</th>\n",
       "      <th>clicks</th>\n",
       "      <th>impressions</th>\n",
       "    </tr>\n",
       "  </thead>\n",
       "  <tbody>\n",
       "    <tr>\n",
       "      <th>0</th>\n",
       "      <td>14102100</td>\n",
       "      <td>20792</td>\n",
       "      <td>119006</td>\n",
       "    </tr>\n",
       "    <tr>\n",
       "      <th>1</th>\n",
       "      <td>14102101</td>\n",
       "      <td>23873</td>\n",
       "      <td>137442</td>\n",
       "    </tr>\n",
       "    <tr>\n",
       "      <th>2</th>\n",
       "      <td>14102102</td>\n",
       "      <td>31265</td>\n",
       "      <td>207471</td>\n",
       "    </tr>\n",
       "    <tr>\n",
       "      <th>3</th>\n",
       "      <td>14102103</td>\n",
       "      <td>32830</td>\n",
       "      <td>193355</td>\n",
       "    </tr>\n",
       "    <tr>\n",
       "      <th>4</th>\n",
       "      <td>14102104</td>\n",
       "      <td>40026</td>\n",
       "      <td>264711</td>\n",
       "    </tr>\n",
       "  </tbody>\n",
       "</table>\n",
       "</div>"
      ],
      "text/plain": [
       "       hour  clicks  impressions\n",
       "0  14102100   20792       119006\n",
       "1  14102101   23873       137442\n",
       "2  14102102   31265       207471\n",
       "3  14102103   32830       193355\n",
       "4  14102104   40026       264711"
      ]
     },
     "execution_count": 8,
     "metadata": {},
     "output_type": "execute_result"
    }
   ],
   "source": [
    "aggregated_chunk_data = aggregated_chunk_data['click'].rename(\n",
    "    columns={'sum': 'clicks', 'count': 'impressions'}\n",
    ").reset_index()\n",
    "aggregated_chunk_data.head()"
   ]
  },
  {
   "cell_type": "markdown",
   "metadata": {},
   "source": [
    "We need one more round of aggregation since there is no guarantee our chunks were randomly aligned by hours"
   ]
  },
  {
   "cell_type": "code",
   "execution_count": 9,
   "metadata": {},
   "outputs": [
    {
     "data": {
      "text/html": [
       "<div>\n",
       "<style scoped>\n",
       "    .dataframe tbody tr th:only-of-type {\n",
       "        vertical-align: middle;\n",
       "    }\n",
       "\n",
       "    .dataframe tbody tr th {\n",
       "        vertical-align: top;\n",
       "    }\n",
       "\n",
       "    .dataframe thead th {\n",
       "        text-align: right;\n",
       "    }\n",
       "</style>\n",
       "<table border=\"1\" class=\"dataframe\">\n",
       "  <thead>\n",
       "    <tr style=\"text-align: right;\">\n",
       "      <th></th>\n",
       "      <th>hour</th>\n",
       "      <th>clicks</th>\n",
       "      <th>impressions</th>\n",
       "    </tr>\n",
       "  </thead>\n",
       "  <tbody>\n",
       "    <tr>\n",
       "      <th>0</th>\n",
       "      <td>14102100</td>\n",
       "      <td>20792</td>\n",
       "      <td>119006</td>\n",
       "    </tr>\n",
       "    <tr>\n",
       "      <th>1</th>\n",
       "      <td>14102101</td>\n",
       "      <td>23873</td>\n",
       "      <td>137442</td>\n",
       "    </tr>\n",
       "    <tr>\n",
       "      <th>2</th>\n",
       "      <td>14102102</td>\n",
       "      <td>31265</td>\n",
       "      <td>207471</td>\n",
       "    </tr>\n",
       "    <tr>\n",
       "      <th>3</th>\n",
       "      <td>14102103</td>\n",
       "      <td>32830</td>\n",
       "      <td>193355</td>\n",
       "    </tr>\n",
       "    <tr>\n",
       "      <th>4</th>\n",
       "      <td>14102104</td>\n",
       "      <td>40026</td>\n",
       "      <td>264711</td>\n",
       "    </tr>\n",
       "  </tbody>\n",
       "</table>\n",
       "</div>"
      ],
      "text/plain": [
       "       hour  clicks  impressions\n",
       "0  14102100   20792       119006\n",
       "1  14102101   23873       137442\n",
       "2  14102102   31265       207471\n",
       "3  14102103   32830       193355\n",
       "4  14102104   40026       264711"
      ]
     },
     "execution_count": 9,
     "metadata": {},
     "output_type": "execute_result"
    }
   ],
   "source": [
    "aggregated_data = aggregated_chunk_data.groupby('hour', as_index=False).sum()\n",
    "\n",
    "aggregated_data.head()"
   ]
  },
  {
   "cell_type": "code",
   "execution_count": 10,
   "metadata": {},
   "outputs": [
    {
     "data": {
      "text/html": [
       "<div>\n",
       "<style scoped>\n",
       "    .dataframe tbody tr th:only-of-type {\n",
       "        vertical-align: middle;\n",
       "    }\n",
       "\n",
       "    .dataframe tbody tr th {\n",
       "        vertical-align: top;\n",
       "    }\n",
       "\n",
       "    .dataframe thead th {\n",
       "        text-align: right;\n",
       "    }\n",
       "</style>\n",
       "<table border=\"1\" class=\"dataframe\">\n",
       "  <thead>\n",
       "    <tr style=\"text-align: right;\">\n",
       "      <th></th>\n",
       "      <th>hour</th>\n",
       "      <th>clicks</th>\n",
       "      <th>impressions</th>\n",
       "      <th>ctr</th>\n",
       "      <th>hour_reformated</th>\n",
       "    </tr>\n",
       "  </thead>\n",
       "  <tbody>\n",
       "    <tr>\n",
       "      <th>0</th>\n",
       "      <td>14102100</td>\n",
       "      <td>20792</td>\n",
       "      <td>119006</td>\n",
       "      <td>0.174714</td>\n",
       "      <td>2014-10-21 00:00:00</td>\n",
       "    </tr>\n",
       "    <tr>\n",
       "      <th>1</th>\n",
       "      <td>14102101</td>\n",
       "      <td>23873</td>\n",
       "      <td>137442</td>\n",
       "      <td>0.173695</td>\n",
       "      <td>2014-10-21 01:00:00</td>\n",
       "    </tr>\n",
       "    <tr>\n",
       "      <th>2</th>\n",
       "      <td>14102102</td>\n",
       "      <td>31265</td>\n",
       "      <td>207471</td>\n",
       "      <td>0.150696</td>\n",
       "      <td>2014-10-21 02:00:00</td>\n",
       "    </tr>\n",
       "    <tr>\n",
       "      <th>3</th>\n",
       "      <td>14102103</td>\n",
       "      <td>32830</td>\n",
       "      <td>193355</td>\n",
       "      <td>0.169791</td>\n",
       "      <td>2014-10-21 03:00:00</td>\n",
       "    </tr>\n",
       "    <tr>\n",
       "      <th>4</th>\n",
       "      <td>14102104</td>\n",
       "      <td>40026</td>\n",
       "      <td>264711</td>\n",
       "      <td>0.151206</td>\n",
       "      <td>2014-10-21 04:00:00</td>\n",
       "    </tr>\n",
       "  </tbody>\n",
       "</table>\n",
       "</div>"
      ],
      "text/plain": [
       "       hour  clicks  impressions       ctr     hour_reformated\n",
       "0  14102100   20792       119006  0.174714 2014-10-21 00:00:00\n",
       "1  14102101   23873       137442  0.173695 2014-10-21 01:00:00\n",
       "2  14102102   31265       207471  0.150696 2014-10-21 02:00:00\n",
       "3  14102103   32830       193355  0.169791 2014-10-21 03:00:00\n",
       "4  14102104   40026       264711  0.151206 2014-10-21 04:00:00"
      ]
     },
     "execution_count": 10,
     "metadata": {},
     "output_type": "execute_result"
    }
   ],
   "source": [
    "aggregated_data['ctr'] = aggregated_data['clicks'] / aggregated_data['impressions']\n",
    "aggregated_data['hour_reformated'] = pd.to_datetime('20' + aggregated_data['hour'].astype(str), format='%Y%m%d%H')\n",
    "aggregated_data.head()"
   ]
  },
  {
   "cell_type": "markdown",
   "metadata": {},
   "source": [
    "Let's create the first deliverable: CTR by hour"
   ]
  },
  {
   "cell_type": "code",
   "execution_count": 11,
   "metadata": {
    "scrolled": false
   },
   "outputs": [
    {
     "name": "stderr",
     "output_type": "stream",
     "text": [
      "<ipython-input-11-377247bcbad4>:5: UserWarning: Matplotlib is currently using module://ipykernel.pylab.backend_inline, which is a non-GUI backend, so cannot show the figure.\n",
      "  fig.show()\n",
      "<ipython-input-11-377247bcbad4>:17: UserWarning: FixedFormatter should only be used together with FixedLocator\n",
      "  ax.set_yticklabels([str(round(x*100, 2)) + ' %' for x in vals])\n"
     ]
    },
    {
     "data": {
      "image/png": "[encoded data removed]",
      "text/plain": [
       "<Figure size 1080x720 with 1 Axes>"
      ]
     },
     "metadata": {
      "needs_background": "light"
     },
     "output_type": "display_data"
    }
   ],
   "source": [
    "fig, ax = plt.subplots(1,1, figsize=(15, 10))\n",
    "\n",
    "ax.set_xticks([1.5])\n",
    "ax.set_xticklabels([\"Here is 1.5\"])\n",
    "fig.show()\n",
    "\n",
    "ax.plot(\n",
    "    aggregated_data['hour_reformated'].tolist(),\n",
    "    aggregated_data['ctr'].tolist(),\n",
    "    c='teal',\n",
    "    label='CTR')\n",
    "\n",
    "ax.set_title('CTR by hour')\n",
    "ax.set_xlabel('Hour & Day')\n",
    "ax.set_ylabel('CTR value (%)')\n",
    "vals = ax.get_yticks()\n",
    "ax.set_yticklabels([str(round(x*100, 2)) + ' %' for x in vals])\n",
    "         \n",
    "plt.show()"
   ]
  },
  {
   "cell_type": "markdown",
   "metadata": {},
   "source": [
    "It appears there might be some seasonality, let's check"
   ]
  },
  {
   "cell_type": "code",
   "execution_count": 12,
   "metadata": {},
   "outputs": [
    {
     "data": {
      "text/html": [
       "<div>\n",
       "<style scoped>\n",
       "    .dataframe tbody tr th:only-of-type {\n",
       "        vertical-align: middle;\n",
       "    }\n",
       "\n",
       "    .dataframe tbody tr th {\n",
       "        vertical-align: top;\n",
       "    }\n",
       "\n",
       "    .dataframe thead th {\n",
       "        text-align: right;\n",
       "    }\n",
       "</style>\n",
       "<table border=\"1\" class=\"dataframe\">\n",
       "  <thead>\n",
       "    <tr style=\"text-align: right;\">\n",
       "      <th></th>\n",
       "      <th>hour</th>\n",
       "      <th>clicks</th>\n",
       "      <th>impressions</th>\n",
       "      <th>ctr</th>\n",
       "    </tr>\n",
       "  </thead>\n",
       "  <tbody>\n",
       "    <tr>\n",
       "      <th>0</th>\n",
       "      <td>141025500</td>\n",
       "      <td>152429</td>\n",
       "      <td>845178</td>\n",
       "      <td>0.180351</td>\n",
       "    </tr>\n",
       "    <tr>\n",
       "      <th>1</th>\n",
       "      <td>141025510</td>\n",
       "      <td>182947</td>\n",
       "      <td>984784</td>\n",
       "      <td>0.185774</td>\n",
       "    </tr>\n",
       "    <tr>\n",
       "      <th>2</th>\n",
       "      <td>141025520</td>\n",
       "      <td>215322</td>\n",
       "      <td>1222672</td>\n",
       "      <td>0.176108</td>\n",
       "    </tr>\n",
       "    <tr>\n",
       "      <th>3</th>\n",
       "      <td>141025530</td>\n",
       "      <td>243705</td>\n",
       "      <td>1399001</td>\n",
       "      <td>0.174199</td>\n",
       "    </tr>\n",
       "    <tr>\n",
       "      <th>4</th>\n",
       "      <td>141025540</td>\n",
       "      <td>305308</td>\n",
       "      <td>1913348</td>\n",
       "      <td>0.159567</td>\n",
       "    </tr>\n",
       "  </tbody>\n",
       "</table>\n",
       "</div>"
      ],
      "text/plain": [
       "        hour  clicks  impressions       ctr\n",
       "0  141025500  152429       845178  0.180351\n",
       "1  141025510  182947       984784  0.185774\n",
       "2  141025520  215322      1222672  0.176108\n",
       "3  141025530  243705      1399001  0.174199\n",
       "4  141025540  305308      1913348  0.159567"
      ]
     },
     "execution_count": 12,
     "metadata": {},
     "output_type": "execute_result"
    }
   ],
   "source": [
    "hourly_data = aggregated_data.groupby(aggregated_data['hour_reformated'].dt.hour, as_index=False).sum()\n",
    "hourly_data['ctr'] = hourly_data['clicks'] / hourly_data['impressions']\n",
    "hourly_data.head()"
   ]
  },
  {
   "cell_type": "code",
   "execution_count": 13,
   "metadata": {},
   "outputs": [
    {
     "data": {
      "image/png": "[encoded data removed]",
      "text/plain": [
       "<Figure size 432x288 with 1 Axes>"
      ]
     },
     "metadata": {
      "needs_background": "light"
     },
     "output_type": "display_data"
    }
   ],
   "source": [
    "hourly_data['ctr'].plot(kind='bar')\n",
    "plt.show()"
   ]
  },
  {
   "cell_type": "markdown",
   "metadata": {},
   "source": [
    "It appears that the seasonality isn't as strong as what we'd suspect. I'll ignore it for now, but the treatment would be quite simple."
   ]
  },
  {
   "cell_type": "markdown",
   "metadata": {},
   "source": [
    "Let's first create a prototype of our algorithm before we turn it into a function, let's pick the last 4 hours as our window"
   ]
  },
  {
   "cell_type": "code",
   "execution_count": 14,
   "metadata": {},
   "outputs": [
    {
     "data": {
      "text/plain": [
       "0           NaN\n",
       "1           NaN\n",
       "2           NaN\n",
       "3           NaN\n",
       "4      0.167224\n",
       "         ...   \n",
       "235    0.185921\n",
       "236    0.189727\n",
       "237    0.190523\n",
       "238    0.190847\n",
       "239    0.184964\n",
       "Name: ctr, Length: 240, dtype: float64"
      ]
     },
     "execution_count": 14,
     "metadata": {},
     "output_type": "execute_result"
    }
   ],
   "source": [
    "aggregated_data['ctr'].rolling(4).mean().shift(1)"
   ]
  },
  {
   "cell_type": "code",
   "execution_count": 15,
   "metadata": {},
   "outputs": [
    {
     "data": {
      "text/html": [
       "<div>\n",
       "<style scoped>\n",
       "    .dataframe tbody tr th:only-of-type {\n",
       "        vertical-align: middle;\n",
       "    }\n",
       "\n",
       "    .dataframe tbody tr th {\n",
       "        vertical-align: top;\n",
       "    }\n",
       "\n",
       "    .dataframe thead th {\n",
       "        text-align: right;\n",
       "    }\n",
       "</style>\n",
       "<table border=\"1\" class=\"dataframe\">\n",
       "  <thead>\n",
       "    <tr style=\"text-align: right;\">\n",
       "      <th></th>\n",
       "      <th>hour</th>\n",
       "      <th>clicks</th>\n",
       "      <th>impressions</th>\n",
       "      <th>ctr</th>\n",
       "      <th>hour_reformated</th>\n",
       "      <th>moving_avg</th>\n",
       "      <th>moving_stdev</th>\n",
       "      <th>is_outlier</th>\n",
       "    </tr>\n",
       "  </thead>\n",
       "  <tbody>\n",
       "    <tr>\n",
       "      <th>0</th>\n",
       "      <td>14102100</td>\n",
       "      <td>20792</td>\n",
       "      <td>119006</td>\n",
       "      <td>0.174714</td>\n",
       "      <td>2014-10-21 00:00:00</td>\n",
       "      <td>NaN</td>\n",
       "      <td>NaN</td>\n",
       "      <td>False</td>\n",
       "    </tr>\n",
       "    <tr>\n",
       "      <th>1</th>\n",
       "      <td>14102101</td>\n",
       "      <td>23873</td>\n",
       "      <td>137442</td>\n",
       "      <td>0.173695</td>\n",
       "      <td>2014-10-21 01:00:00</td>\n",
       "      <td>NaN</td>\n",
       "      <td>NaN</td>\n",
       "      <td>False</td>\n",
       "    </tr>\n",
       "    <tr>\n",
       "      <th>2</th>\n",
       "      <td>14102102</td>\n",
       "      <td>31265</td>\n",
       "      <td>207471</td>\n",
       "      <td>0.150696</td>\n",
       "      <td>2014-10-21 02:00:00</td>\n",
       "      <td>NaN</td>\n",
       "      <td>NaN</td>\n",
       "      <td>False</td>\n",
       "    </tr>\n",
       "    <tr>\n",
       "      <th>3</th>\n",
       "      <td>14102103</td>\n",
       "      <td>32830</td>\n",
       "      <td>193355</td>\n",
       "      <td>0.169791</td>\n",
       "      <td>2014-10-21 03:00:00</td>\n",
       "      <td>NaN</td>\n",
       "      <td>NaN</td>\n",
       "      <td>False</td>\n",
       "    </tr>\n",
       "    <tr>\n",
       "      <th>4</th>\n",
       "      <td>14102104</td>\n",
       "      <td>40026</td>\n",
       "      <td>264711</td>\n",
       "      <td>0.151206</td>\n",
       "      <td>2014-10-21 04:00:00</td>\n",
       "      <td>0.167224</td>\n",
       "      <td>0.011221</td>\n",
       "      <td>False</td>\n",
       "    </tr>\n",
       "  </tbody>\n",
       "</table>\n",
       "</div>"
      ],
      "text/plain": [
       "       hour  clicks  impressions       ctr     hour_reformated  moving_avg  \\\n",
       "0  14102100   20792       119006  0.174714 2014-10-21 00:00:00         NaN   \n",
       "1  14102101   23873       137442  0.173695 2014-10-21 01:00:00         NaN   \n",
       "2  14102102   31265       207471  0.150696 2014-10-21 02:00:00         NaN   \n",
       "3  14102103   32830       193355  0.169791 2014-10-21 03:00:00         NaN   \n",
       "4  14102104   40026       264711  0.151206 2014-10-21 04:00:00    0.167224   \n",
       "\n",
       "   moving_stdev  is_outlier  \n",
       "0           NaN       False  \n",
       "1           NaN       False  \n",
       "2           NaN       False  \n",
       "3           NaN       False  \n",
       "4      0.011221       False  "
      ]
     },
     "execution_count": 15,
     "metadata": {},
     "output_type": "execute_result"
    }
   ],
   "source": [
    "aggregated_data.sort_values('hour_reformated', ascending=True, inplace=True)\n",
    "# We want to include only past data points in a moving avg / stdev for a given data point, hence the shift\n",
    "aggregated_data['moving_avg'] = aggregated_data['ctr'].rolling(4).mean().shift(1)\n",
    "aggregated_data['moving_stdev'] = aggregated_data['ctr'].rolling(4).std().shift(1)\n",
    "aggregated_data['is_outlier'] = (\n",
    "    aggregated_data['ctr'] - aggregated_data['moving_avg']\n",
    ").abs() > 1.5 * aggregated_data['moving_stdev']\n",
    "aggregated_data.head()"
   ]
  },
  {
   "cell_type": "markdown",
   "metadata": {},
   "source": [
    "We could very well test different rolling windows"
   ]
  },
  {
   "cell_type": "markdown",
   "metadata": {},
   "source": [
    "Note: We don't classify the points where we can't get a full moving window of previous values"
   ]
  },
  {
   "cell_type": "code",
   "execution_count": 16,
   "metadata": {},
   "outputs": [
    {
     "name": "stderr",
     "output_type": "stream",
     "text": [
      "<ipython-input-16-90b20bcabe53>:1: DeprecationWarning: The default dtype for empty Series will be 'object' instead of 'float64' in a future version. Specify a dtype explicitly to silence this warning.\n",
      "  num_outliers_per_variant = pd.Series(index=list(range(3, 24)))\n"
     ]
    },
    {
     "data": {
      "text/html": [
       "<div>\n",
       "<style scoped>\n",
       "    .dataframe tbody tr th:only-of-type {\n",
       "        vertical-align: middle;\n",
       "    }\n",
       "\n",
       "    .dataframe tbody tr th {\n",
       "        vertical-align: top;\n",
       "    }\n",
       "\n",
       "    .dataframe thead th {\n",
       "        text-align: right;\n",
       "    }\n",
       "</style>\n",
       "<table border=\"1\" class=\"dataframe\">\n",
       "  <thead>\n",
       "    <tr style=\"text-align: right;\">\n",
       "      <th></th>\n",
       "      <th>hour</th>\n",
       "      <th>clicks</th>\n",
       "      <th>impressions</th>\n",
       "      <th>ctr</th>\n",
       "      <th>hour_reformated</th>\n",
       "      <th>moving_avg</th>\n",
       "      <th>moving_stdev</th>\n",
       "      <th>is_outlier</th>\n",
       "      <th>is_outlier_w_window_of_3</th>\n",
       "      <th>is_outlier_w_window_of_4</th>\n",
       "      <th>...</th>\n",
       "      <th>is_outlier_w_window_of_14</th>\n",
       "      <th>is_outlier_w_window_of_15</th>\n",
       "      <th>is_outlier_w_window_of_16</th>\n",
       "      <th>is_outlier_w_window_of_17</th>\n",
       "      <th>is_outlier_w_window_of_18</th>\n",
       "      <th>is_outlier_w_window_of_19</th>\n",
       "      <th>is_outlier_w_window_of_20</th>\n",
       "      <th>is_outlier_w_window_of_21</th>\n",
       "      <th>is_outlier_w_window_of_22</th>\n",
       "      <th>is_outlier_w_window_of_23</th>\n",
       "    </tr>\n",
       "  </thead>\n",
       "  <tbody>\n",
       "    <tr>\n",
       "      <th>0</th>\n",
       "      <td>14102100</td>\n",
       "      <td>20792</td>\n",
       "      <td>119006</td>\n",
       "      <td>0.174714</td>\n",
       "      <td>2014-10-21 00:00:00</td>\n",
       "      <td>NaN</td>\n",
       "      <td>NaN</td>\n",
       "      <td>False</td>\n",
       "      <td>False</td>\n",
       "      <td>False</td>\n",
       "      <td>...</td>\n",
       "      <td>False</td>\n",
       "      <td>False</td>\n",
       "      <td>False</td>\n",
       "      <td>False</td>\n",
       "      <td>False</td>\n",
       "      <td>False</td>\n",
       "      <td>False</td>\n",
       "      <td>False</td>\n",
       "      <td>False</td>\n",
       "      <td>False</td>\n",
       "    </tr>\n",
       "    <tr>\n",
       "      <th>1</th>\n",
       "      <td>14102101</td>\n",
       "      <td>23873</td>\n",
       "      <td>137442</td>\n",
       "      <td>0.173695</td>\n",
       "      <td>2014-10-21 01:00:00</td>\n",
       "      <td>NaN</td>\n",
       "      <td>NaN</td>\n",
       "      <td>False</td>\n",
       "      <td>False</td>\n",
       "      <td>False</td>\n",
       "      <td>...</td>\n",
       "      <td>False</td>\n",
       "      <td>False</td>\n",
       "      <td>False</td>\n",
       "      <td>False</td>\n",
       "      <td>False</td>\n",
       "      <td>False</td>\n",
       "      <td>False</td>\n",
       "      <td>False</td>\n",
       "      <td>False</td>\n",
       "      <td>False</td>\n",
       "    </tr>\n",
       "    <tr>\n",
       "      <th>2</th>\n",
       "      <td>14102102</td>\n",
       "      <td>31265</td>\n",
       "      <td>207471</td>\n",
       "      <td>0.150696</td>\n",
       "      <td>2014-10-21 02:00:00</td>\n",
       "      <td>NaN</td>\n",
       "      <td>NaN</td>\n",
       "      <td>False</td>\n",
       "      <td>False</td>\n",
       "      <td>False</td>\n",
       "      <td>...</td>\n",
       "      <td>False</td>\n",
       "      <td>False</td>\n",
       "      <td>False</td>\n",
       "      <td>False</td>\n",
       "      <td>False</td>\n",
       "      <td>False</td>\n",
       "      <td>False</td>\n",
       "      <td>False</td>\n",
       "      <td>False</td>\n",
       "      <td>False</td>\n",
       "    </tr>\n",
       "    <tr>\n",
       "      <th>3</th>\n",
       "      <td>14102103</td>\n",
       "      <td>32830</td>\n",
       "      <td>193355</td>\n",
       "      <td>0.169791</td>\n",
       "      <td>2014-10-21 03:00:00</td>\n",
       "      <td>NaN</td>\n",
       "      <td>NaN</td>\n",
       "      <td>False</td>\n",
       "      <td>False</td>\n",
       "      <td>False</td>\n",
       "      <td>...</td>\n",
       "      <td>False</td>\n",
       "      <td>False</td>\n",
       "      <td>False</td>\n",
       "      <td>False</td>\n",
       "      <td>False</td>\n",
       "      <td>False</td>\n",
       "      <td>False</td>\n",
       "      <td>False</td>\n",
       "      <td>False</td>\n",
       "      <td>False</td>\n",
       "    </tr>\n",
       "    <tr>\n",
       "      <th>4</th>\n",
       "      <td>14102104</td>\n",
       "      <td>40026</td>\n",
       "      <td>264711</td>\n",
       "      <td>0.151206</td>\n",
       "      <td>2014-10-21 04:00:00</td>\n",
       "      <td>0.167224</td>\n",
       "      <td>0.011221</td>\n",
       "      <td>False</td>\n",
       "      <td>False</td>\n",
       "      <td>False</td>\n",
       "      <td>...</td>\n",
       "      <td>False</td>\n",
       "      <td>False</td>\n",
       "      <td>False</td>\n",
       "      <td>False</td>\n",
       "      <td>False</td>\n",
       "      <td>False</td>\n",
       "      <td>False</td>\n",
       "      <td>False</td>\n",
       "      <td>False</td>\n",
       "      <td>False</td>\n",
       "    </tr>\n",
       "  </tbody>\n",
       "</table>\n",
       "<p>5 rows × 29 columns</p>\n",
       "</div>"
      ],
      "text/plain": [
       "       hour  clicks  impressions       ctr     hour_reformated  moving_avg  \\\n",
       "0  14102100   20792       119006  0.174714 2014-10-21 00:00:00         NaN   \n",
       "1  14102101   23873       137442  0.173695 2014-10-21 01:00:00         NaN   \n",
       "2  14102102   31265       207471  0.150696 2014-10-21 02:00:00         NaN   \n",
       "3  14102103   32830       193355  0.169791 2014-10-21 03:00:00         NaN   \n",
       "4  14102104   40026       264711  0.151206 2014-10-21 04:00:00    0.167224   \n",
       "\n",
       "   moving_stdev  is_outlier  is_outlier_w_window_of_3  \\\n",
       "0           NaN       False                     False   \n",
       "1           NaN       False                     False   \n",
       "2           NaN       False                     False   \n",
       "3           NaN       False                     False   \n",
       "4      0.011221       False                     False   \n",
       "\n",
       "   is_outlier_w_window_of_4  ...  is_outlier_w_window_of_14  \\\n",
       "0                     False  ...                      False   \n",
       "1                     False  ...                      False   \n",
       "2                     False  ...                      False   \n",
       "3                     False  ...                      False   \n",
       "4                     False  ...                      False   \n",
       "\n",
       "   is_outlier_w_window_of_15  is_outlier_w_window_of_16  \\\n",
       "0                      False                      False   \n",
       "1                      False                      False   \n",
       "2                      False                      False   \n",
       "3                      False                      False   \n",
       "4                      False                      False   \n",
       "\n",
       "   is_outlier_w_window_of_17  is_outlier_w_window_of_18  \\\n",
       "0                      False                      False   \n",
       "1                      False                      False   \n",
       "2                      False                      False   \n",
       "3                      False                      False   \n",
       "4                      False                      False   \n",
       "\n",
       "   is_outlier_w_window_of_19  is_outlier_w_window_of_20  \\\n",
       "0                      False                      False   \n",
       "1                      False                      False   \n",
       "2                      False                      False   \n",
       "3                      False                      False   \n",
       "4                      False                      False   \n",
       "\n",
       "   is_outlier_w_window_of_21  is_outlier_w_window_of_22  \\\n",
       "0                      False                      False   \n",
       "1                      False                      False   \n",
       "2                      False                      False   \n",
       "3                      False                      False   \n",
       "4                      False                      False   \n",
       "\n",
       "   is_outlier_w_window_of_23  \n",
       "0                      False  \n",
       "1                      False  \n",
       "2                      False  \n",
       "3                      False  \n",
       "4                      False  \n",
       "\n",
       "[5 rows x 29 columns]"
      ]
     },
     "execution_count": 16,
     "metadata": {},
     "output_type": "execute_result"
    }
   ],
   "source": [
    "num_outliers_per_variant = pd.Series(index=list(range(3, 24)))\n",
    "for moving_window_size in range(3, 24):\n",
    "    aggregated_data[f'is_outlier_w_window_of_{moving_window_size}'] = (\n",
    "        aggregated_data['ctr'] - aggregated_data['ctr'].rolling(moving_window_size).mean().shift(1)\n",
    "    ).abs() > 1.5 * aggregated_data['ctr'].rolling(moving_window_size).std().shift(1)\n",
    "    num_outliers_per_variant.loc[moving_window_size] = aggregated_data[f'is_outlier_w_window_of_{moving_window_size}'].sum()\n",
    "\n",
    "aggregated_data.head()"
   ]
  },
  {
   "cell_type": "markdown",
   "metadata": {},
   "source": [
    "Let's summarize our results"
   ]
  },
  {
   "cell_type": "code",
   "execution_count": 17,
   "metadata": {
    "scrolled": true
   },
   "outputs": [
    {
     "data": {
      "text/plain": [
       "<AxesSubplot:>"
      ]
     },
     "execution_count": 17,
     "metadata": {},
     "output_type": "execute_result"
    },
    {
     "data": {
      "image/png": "[encoded data removed]",
      "text/plain": [
       "<Figure size 432x288 with 1 Axes>"
      ]
     },
     "metadata": {
      "needs_background": "light"
     },
     "output_type": "display_data"
    }
   ],
   "source": [
    "num_outliers_per_variant.plot(kind='line')"
   ]
  },
  {
   "cell_type": "markdown",
   "metadata": {},
   "source": [
    "We can see that the less datapoints in the moving window, the more outliers we get, most probably due to higher variablity occuring between the values in the moving window and the new value. It also seems, there's not much change in number of outliers identified once we get to 13 dayapoints in a moving window"
   ]
  },
  {
   "cell_type": "markdown",
   "metadata": {},
   "source": [
    "Let's plot these results (second deliverable)"
   ]
  },
  {
   "cell_type": "code",
   "execution_count": 18,
   "metadata": {},
   "outputs": [
    {
     "data": {
      "text/html": [
       "<div>\n",
       "<style scoped>\n",
       "    .dataframe tbody tr th:only-of-type {\n",
       "        vertical-align: middle;\n",
       "    }\n",
       "\n",
       "    .dataframe tbody tr th {\n",
       "        vertical-align: top;\n",
       "    }\n",
       "\n",
       "    .dataframe thead th {\n",
       "        text-align: right;\n",
       "    }\n",
       "</style>\n",
       "<table border=\"1\" class=\"dataframe\">\n",
       "  <thead>\n",
       "    <tr style=\"text-align: right;\">\n",
       "      <th></th>\n",
       "      <th>hour</th>\n",
       "      <th>clicks</th>\n",
       "      <th>impressions</th>\n",
       "      <th>ctr</th>\n",
       "      <th>hour_reformated</th>\n",
       "      <th>moving_avg</th>\n",
       "      <th>moving_stdev</th>\n",
       "      <th>is_outlier</th>\n",
       "      <th>is_outlier_w_window_of_3</th>\n",
       "      <th>is_outlier_w_window_of_4</th>\n",
       "      <th>...</th>\n",
       "      <th>is_outlier_w_window_of_14</th>\n",
       "      <th>is_outlier_w_window_of_15</th>\n",
       "      <th>is_outlier_w_window_of_16</th>\n",
       "      <th>is_outlier_w_window_of_17</th>\n",
       "      <th>is_outlier_w_window_of_18</th>\n",
       "      <th>is_outlier_w_window_of_19</th>\n",
       "      <th>is_outlier_w_window_of_20</th>\n",
       "      <th>is_outlier_w_window_of_21</th>\n",
       "      <th>is_outlier_w_window_of_22</th>\n",
       "      <th>is_outlier_w_window_of_23</th>\n",
       "    </tr>\n",
       "  </thead>\n",
       "  <tbody>\n",
       "    <tr>\n",
       "      <th>14</th>\n",
       "      <td>14102114</td>\n",
       "      <td>35168</td>\n",
       "      <td>174531</td>\n",
       "      <td>0.201500</td>\n",
       "      <td>2014-10-21 14:00:00</td>\n",
       "      <td>0.191682</td>\n",
       "      <td>0.011379</td>\n",
       "      <td>False</td>\n",
       "      <td>False</td>\n",
       "      <td>False</td>\n",
       "      <td>...</td>\n",
       "      <td>True</td>\n",
       "      <td>False</td>\n",
       "      <td>False</td>\n",
       "      <td>False</td>\n",
       "      <td>False</td>\n",
       "      <td>False</td>\n",
       "      <td>False</td>\n",
       "      <td>False</td>\n",
       "      <td>False</td>\n",
       "      <td>False</td>\n",
       "    </tr>\n",
       "    <tr>\n",
       "      <th>20</th>\n",
       "      <td>14102120</td>\n",
       "      <td>18195</td>\n",
       "      <td>112017</td>\n",
       "      <td>0.162431</td>\n",
       "      <td>2014-10-21 20:00:00</td>\n",
       "      <td>0.183261</td>\n",
       "      <td>0.011415</td>\n",
       "      <td>True</td>\n",
       "      <td>True</td>\n",
       "      <td>True</td>\n",
       "      <td>...</td>\n",
       "      <td>False</td>\n",
       "      <td>False</td>\n",
       "      <td>False</td>\n",
       "      <td>False</td>\n",
       "      <td>False</td>\n",
       "      <td>False</td>\n",
       "      <td>False</td>\n",
       "      <td>False</td>\n",
       "      <td>False</td>\n",
       "      <td>False</td>\n",
       "    </tr>\n",
       "    <tr>\n",
       "      <th>29</th>\n",
       "      <td>14102205</td>\n",
       "      <td>41921</td>\n",
       "      <td>286697</td>\n",
       "      <td>0.146221</td>\n",
       "      <td>2014-10-22 05:00:00</td>\n",
       "      <td>0.185183</td>\n",
       "      <td>0.009867</td>\n",
       "      <td>True</td>\n",
       "      <td>True</td>\n",
       "      <td>True</td>\n",
       "      <td>...</td>\n",
       "      <td>True</td>\n",
       "      <td>True</td>\n",
       "      <td>True</td>\n",
       "      <td>True</td>\n",
       "      <td>True</td>\n",
       "      <td>True</td>\n",
       "      <td>True</td>\n",
       "      <td>True</td>\n",
       "      <td>True</td>\n",
       "      <td>True</td>\n",
       "    </tr>\n",
       "    <tr>\n",
       "      <th>32</th>\n",
       "      <td>14102208</td>\n",
       "      <td>46487</td>\n",
       "      <td>322803</td>\n",
       "      <td>0.144010</td>\n",
       "      <td>2014-10-22 08:00:00</td>\n",
       "      <td>0.165948</td>\n",
       "      <td>0.017031</td>\n",
       "      <td>False</td>\n",
       "      <td>False</td>\n",
       "      <td>False</td>\n",
       "      <td>...</td>\n",
       "      <td>True</td>\n",
       "      <td>True</td>\n",
       "      <td>True</td>\n",
       "      <td>True</td>\n",
       "      <td>True</td>\n",
       "      <td>True</td>\n",
       "      <td>True</td>\n",
       "      <td>True</td>\n",
       "      <td>True</td>\n",
       "      <td>True</td>\n",
       "    </tr>\n",
       "    <tr>\n",
       "      <th>33</th>\n",
       "      <td>14102209</td>\n",
       "      <td>62410</td>\n",
       "      <td>447783</td>\n",
       "      <td>0.139376</td>\n",
       "      <td>2014-10-22 09:00:00</td>\n",
       "      <td>0.159182</td>\n",
       "      <td>0.019511</td>\n",
       "      <td>False</td>\n",
       "      <td>False</td>\n",
       "      <td>False</td>\n",
       "      <td>...</td>\n",
       "      <td>True</td>\n",
       "      <td>True</td>\n",
       "      <td>True</td>\n",
       "      <td>True</td>\n",
       "      <td>True</td>\n",
       "      <td>True</td>\n",
       "      <td>True</td>\n",
       "      <td>True</td>\n",
       "      <td>True</td>\n",
       "      <td>True</td>\n",
       "    </tr>\n",
       "  </tbody>\n",
       "</table>\n",
       "<p>5 rows × 29 columns</p>\n",
       "</div>"
      ],
      "text/plain": [
       "        hour  clicks  impressions       ctr     hour_reformated  moving_avg  \\\n",
       "14  14102114   35168       174531  0.201500 2014-10-21 14:00:00    0.191682   \n",
       "20  14102120   18195       112017  0.162431 2014-10-21 20:00:00    0.183261   \n",
       "29  14102205   41921       286697  0.146221 2014-10-22 05:00:00    0.185183   \n",
       "32  14102208   46487       322803  0.144010 2014-10-22 08:00:00    0.165948   \n",
       "33  14102209   62410       447783  0.139376 2014-10-22 09:00:00    0.159182   \n",
       "\n",
       "    moving_stdev  is_outlier  is_outlier_w_window_of_3  \\\n",
       "14      0.011379       False                     False   \n",
       "20      0.011415        True                      True   \n",
       "29      0.009867        True                      True   \n",
       "32      0.017031       False                     False   \n",
       "33      0.019511       False                     False   \n",
       "\n",
       "    is_outlier_w_window_of_4  ...  is_outlier_w_window_of_14  \\\n",
       "14                     False  ...                       True   \n",
       "20                      True  ...                      False   \n",
       "29                      True  ...                       True   \n",
       "32                     False  ...                       True   \n",
       "33                     False  ...                       True   \n",
       "\n",
       "    is_outlier_w_window_of_15  is_outlier_w_window_of_16  \\\n",
       "14                      False                      False   \n",
       "20                      False                      False   \n",
       "29                       True                       True   \n",
       "32                       True                       True   \n",
       "33                       True                       True   \n",
       "\n",
       "    is_outlier_w_window_of_17  is_outlier_w_window_of_18  \\\n",
       "14                      False                      False   \n",
       "20                      False                      False   \n",
       "29                       True                       True   \n",
       "32                       True                       True   \n",
       "33                       True                       True   \n",
       "\n",
       "    is_outlier_w_window_of_19  is_outlier_w_window_of_20  \\\n",
       "14                      False                      False   \n",
       "20                      False                      False   \n",
       "29                       True                       True   \n",
       "32                       True                       True   \n",
       "33                       True                       True   \n",
       "\n",
       "    is_outlier_w_window_of_21  is_outlier_w_window_of_22  \\\n",
       "14                      False                      False   \n",
       "20                      False                      False   \n",
       "29                       True                       True   \n",
       "32                       True                       True   \n",
       "33                       True                       True   \n",
       "\n",
       "    is_outlier_w_window_of_23  \n",
       "14                      False  \n",
       "20                      False  \n",
       "29                       True  \n",
       "32                       True  \n",
       "33                       True  \n",
       "\n",
       "[5 rows x 29 columns]"
      ]
     },
     "execution_count": 18,
     "metadata": {},
     "output_type": "execute_result"
    }
   ],
   "source": [
    "outliers = aggregated_data[aggregated_data['is_outlier_w_window_of_13'] == True]\n",
    "outliers.head()"
   ]
  },
  {
   "cell_type": "code",
   "execution_count": 19,
   "metadata": {
    "scrolled": false
   },
   "outputs": [
    {
     "name": "stderr",
     "output_type": "stream",
     "text": [
      "<ipython-input-19-7f36f8eb1da8>:5: UserWarning: Matplotlib is currently using module://ipykernel.pylab.backend_inline, which is a non-GUI backend, so cannot show the figure.\n",
      "  fig.show()\n",
      "<ipython-input-19-7f36f8eb1da8>:28: UserWarning: FixedFormatter should only be used together with FixedLocator\n",
      "  ax.set_yticklabels([str(round(x*100, 2)) + ' %' for x in vals])\n"
     ]
    },
    {
     "data": {
      "image/png": "[encoded data removed]",
      "text/plain": [
       "<Figure size 1080x720 with 1 Axes>"
      ]
     },
     "metadata": {
      "needs_background": "light"
     },
     "output_type": "display_data"
    }
   ],
   "source": [
    "fig, ax = plt.subplots(1,1, figsize=(15, 10))\n",
    "\n",
    "ax.set_xticks([1.5])\n",
    "ax.set_xticklabels([\"Here is 1.5\"])\n",
    "fig.show()\n",
    "\n",
    "ax.plot(\n",
    "    aggregated_data['hour_reformated'].tolist(),\n",
    "    aggregated_data['ctr'].tolist(),\n",
    "    c='teal',\n",
    "    label='CTR')\n",
    "\n",
    "ax.plot(\n",
    "    outliers['hour_reformated'],\n",
    "    outliers['ctr'],\n",
    "    c='red',\n",
    "    label='Outliers',\n",
    "    linestyle='', \n",
    "    marker='x',\n",
    "    markersize=15\n",
    ")\n",
    "\n",
    "ax.legend()\n",
    "ax.set_title('CTR by hour')\n",
    "ax.set_xlabel('Hour & Day')\n",
    "ax.set_ylabel('CTR value (%)')\n",
    "vals = ax.get_yticks()\n",
    "ax.set_yticklabels([str(round(x*100, 2)) + ' %' for x in vals])\n",
    "         \n",
    "plt.show()"
   ]
  },
  {
   "cell_type": "markdown",
   "metadata": {},
   "source": [
    "We're still getting too many anomalies, in a 10 day period with 240 time units, we'd flag 46 as outliers. I would play around with the standard deviation parameter to improve the algorithm"
   ]
  },
  {
   "cell_type": "markdown",
   "metadata": {},
   "source": [
    "Let's define our outlier detection algorithm. If it was running in production, our inputs would be:\n",
    "* data from the window up to the point we're trying to classify\n",
    "* the value which we're looking to flag by the outlier check\n",
    "* length of the moving window"
   ]
  },
  {
   "cell_type": "markdown",
   "metadata": {},
   "source": [
    "Obviously the production version would be more complex with most code spent on getting the data and formatting them into the shape they'd need to be in for ingestion."
   ]
  },
  {
   "cell_type": "code",
   "execution_count": 20,
   "metadata": {},
   "outputs": [],
   "source": [
    "def detect_anomaly(previous_data: pd.Series, check_point_value: float) -> bool:\n",
    "    avg = previous_data.mean()\n",
    "    stdev = previous_data.std()\n",
    "\n",
    "    return abs(avg - check_point_value) > 1.5 * stdev"
   ]
  },
  {
   "cell_type": "markdown",
   "metadata": {},
   "source": [
    "A model example of calling the function"
   ]
  },
  {
   "cell_type": "code",
   "execution_count": 21,
   "metadata": {},
   "outputs": [
    {
     "data": {
      "text/plain": [
       "True"
      ]
     },
     "execution_count": 21,
     "metadata": {},
     "output_type": "execute_result"
    }
   ],
   "source": [
    "MOVING_WINDOW_LENGTH = 13\n",
    "chosen_check_point = parse('2014-10-21 14:00:00')\n",
    "previous_data = aggregated_data[\n",
    "    aggregated_data['hour_reformated'] < chosen_check_point\n",
    "].sort_values('hour_reformated', ascending=False).head(MOVING_WINDOW_LENGTH)['ctr']\n",
    "\n",
    "check_point_value = aggregated_data.loc[\n",
    "    aggregated_data['hour_reformated'] == chosen_check_point,\n",
    "    'ctr'\n",
    "].values[0]\n",
    "\n",
    "detect_anomaly(previous_data=previous_data, check_point_value=check_point_value)"
   ]
  },
  {
   "cell_type": "markdown",
   "metadata": {},
   "source": [
    "Cleanup"
   ]
  },
  {
   "cell_type": "code",
   "execution_count": 22,
   "metadata": {},
   "outputs": [],
   "source": [
    "for file in ['sampleSubmission.gz', 'test.gz', 'train.gz', 'avazu-ctr-prediction.zip']: \n",
    "    os.remove(file)"
   ]
  },
  {
   "cell_type": "code",
   "execution_count": null,
   "metadata": {},
   "outputs": [],
   "source": []
  }
 ],
 "metadata": {
  "kernelspec": {
   "display_name": "Python 3",
   "language": "python",
   "name": "python3"
  },
  "language_info": {
   "codemirror_mode": {
    "name": "ipython",
    "version": 3
   },
   "file_extension": ".py",
   "mimetype": "text/x-python",
   "name": "python",
   "nbconvert_exporter": "python",
   "pygments_lexer": "ipython3",
   "version": "3.8.1"
  }
 },
 "nbformat": 4,
 "nbformat_minor": 4
}
